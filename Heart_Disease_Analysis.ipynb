{
 "cells": [
  {
   "cell_type": "markdown",
   "metadata": {},
   "source": [
    "#### Introduction about Project:\n",
    "Main Agenda of the Analytical Project is to predict the heart disease presence of Heart Disease in a patient using different atttibutes. The original dataset contais 75 attributes but not every attribute is important for predictive models. To avoid issue in the model, the dataset has been converted in to 14 attributes and more than 300 observations by researcher. The data is coming from Cleveland and this is the first time that any of researcher has worked on Cleveland heart disease.\n",
    "\n",
    "Credits to the Researcher for Data:\n",
    "1. Hungarian Institute of Cardiology. Budapest: Andras Janosi, M.D. \n",
    "2. University Hospital, Zurich, Switzerland: William Steinbrunn, M.D. \n",
    "3. University Hospital, Basel, Switzerland: Matthias Pfisterer, M.D. \n",
    "4. V.A. Medical Center, Long Beach and Cleveland Clinic Foundation: Robert Detrano, M.D., Ph.D.\n",
    "\n",
    "URL to get multiple datas and original as well as processed data is: [UCI Machine Learing Repository: Heart Disease](https://archive.ics.uci.edu/ml/datasets/Heart+Disease)"
   ]
  },
  {
   "cell_type": "markdown",
   "metadata": {},
   "source": [
    "### Data Extraction:\n",
    "* Public Data:\n",
    "Data set is publicly available to download and it has the URL from where Data Set can be downloaded and improted in to the system. One can directly use URL to add data to the project and using URL it can be loaded. UCI Machine Learning has the data set and creditors as well as link to download data set is as below:\n",
    "\n",
    "    Credits to the Researcher for Data:\n",
    "    1. Hungarian Institute of Cardiology. Budapest: Andras Janosi, M.D. \n",
    "    2. University Hospital, Zurich, Switzerland: William Steinbrunn, M.D. \n",
    "    3. University Hospital, Basel, Switzerland: Matthias Pfisterer, M.D. \n",
    "    4. V.A. Medical Center, Long Beach and Cleveland Clinic Foundation: Robert Detrano, M.D., Ph.D.\n",
    "\n",
    "   URL to get multiple datas and original as well as processed data is: [UCI Machine Learing Repository: Heart Disease](https://archive.ics.uci.edu/ml/datasets/Heart+Disease)\n",
    "   \n",
    "   \n",
    "* Data Set Description:\n",
    "\n",
    " - Data Set contains 14 attributes and 300+ observations. Out of 14 attributes one is predictor and rest are response varibale\n",
    " - Predictor is a classification value cotaining 0/1 which means Heart Disease pressence Yes/No\n",
    " - Other attributes can be described as under:\n",
    "    - Age: The attribute provides information about age of the observations taken in the data set\n",
    "    - Sex: The attribute categorized patient in the male/female to understand any gender based disease issue\n",
    "    - Chest Pain: It defines the pain type with level, \n",
    "                    - Value 1: typical angina \n",
    "                    - Value 2: atypical angina \n",
    "                    - Value 3: non-anginal pain \n",
    "                    - Value 4: asymptomatic \n",
    "    - Restbps: Resting in Blood Pressure in Hg/mm. It is important to check BP of a heart disease patient\n",
    "    - Chol: Serum Cholesterol in mg/dl\n",
    "    - Fbs : Fasting Blood Sugar ( >120) If it is present than it is 1 | 0\n",
    "    - RestECG: ECG Value with effect of the value\n",
    "                    - Value 0: normal \n",
    "                    - Value 1: having ST-T wave abnormality (T wave inversions and/or ST elevation or depression of > 0.05 mV) \n",
    "                    - Value 2: showing probable or definite left ventricular hypertrophy by Estes' criteria \n",
    "    - Thalach: provides maximum heart rate achieved\n",
    "    - Exang: Includes Exercises Anigma (Yes | No)\n",
    "    - Oldpeak: Defines Depression induced by exercise relative to rest\n",
    "                    - Value 1: upsloping \n",
    "                    - Value 2: flat \n",
    "                    - Value 3: downsloping \n",
    "    - Vessels: Number of Major Vessels colored byb flourospy\n",
    "    - Thal: Value of Thalassemia\n",
    "                    - 3 = normal\n",
    "                    - 6 = fixed defect\n",
    "                    - 7 = reversable defect\n",
    "    - Predictors: Predict presnece in ( 0 | 1: No | Yes)"
   ]
  },
  {
   "cell_type": "code",
   "execution_count": 99,
   "metadata": {},
   "outputs": [],
   "source": [
    "#Imported major libraries require to perform the future operations.\n",
    "#Numpy and Pandas imported for Data Extraction, Data Cleaning, and Data Manipulation\n",
    "#Matplotlib and Seaborn imported for Data Visualization\n",
    "#Warnings imported to ignore warnings\n",
    "\n",
    "import numpy as np\n",
    "import pandas as pd\n",
    "import matplotlib.pyplot as plt\n",
    "from sklearn.metrics import confusion_matrix\n",
    "import seaborn as sns\n",
    "import warnings\n",
    "warnings.filterwarnings(\"ignore\")"
   ]
  },
  {
   "cell_type": "code",
   "execution_count": 51,
   "metadata": {},
   "outputs": [],
   "source": [
    "#The data set does not have column as is it coming from URL and it is in a raw format. Assigning Column Name for future operation\n",
    "colName = ['Age','Sex','ChestPain','BloodPressure','Cholesterol','Sugar','Ecg','HeartRate','Agina',\n",
    "           'Depression','Peak','Vesels','Thal','Target']"
   ]
  },
  {
   "cell_type": "code",
   "execution_count": 84,
   "metadata": {},
   "outputs": [
    {
     "data": {
      "text/html": [
       "<div>\n",
       "<style scoped>\n",
       "    .dataframe tbody tr th:only-of-type {\n",
       "        vertical-align: middle;\n",
       "    }\n",
       "\n",
       "    .dataframe tbody tr th {\n",
       "        vertical-align: top;\n",
       "    }\n",
       "\n",
       "    .dataframe thead th {\n",
       "        text-align: right;\n",
       "    }\n",
       "</style>\n",
       "<table border=\"1\" class=\"dataframe\">\n",
       "  <thead>\n",
       "    <tr style=\"text-align: right;\">\n",
       "      <th></th>\n",
       "      <th>Age</th>\n",
       "      <th>Sex</th>\n",
       "      <th>ChestPain</th>\n",
       "      <th>BloodPressure</th>\n",
       "      <th>Cholesterol</th>\n",
       "      <th>Sugar</th>\n",
       "      <th>Ecg</th>\n",
       "      <th>HeartRate</th>\n",
       "      <th>Agina</th>\n",
       "      <th>Depression</th>\n",
       "      <th>Peak</th>\n",
       "      <th>Vesels</th>\n",
       "      <th>Thal</th>\n",
       "      <th>Target</th>\n",
       "    </tr>\n",
       "  </thead>\n",
       "  <tbody>\n",
       "    <tr>\n",
       "      <th>0</th>\n",
       "      <td>63.0</td>\n",
       "      <td>1.0</td>\n",
       "      <td>1.0</td>\n",
       "      <td>145.0</td>\n",
       "      <td>233.0</td>\n",
       "      <td>1.0</td>\n",
       "      <td>2.0</td>\n",
       "      <td>150.0</td>\n",
       "      <td>0.0</td>\n",
       "      <td>2.3</td>\n",
       "      <td>3.0</td>\n",
       "      <td>0.0</td>\n",
       "      <td>6.0</td>\n",
       "      <td>0</td>\n",
       "    </tr>\n",
       "    <tr>\n",
       "      <th>1</th>\n",
       "      <td>67.0</td>\n",
       "      <td>1.0</td>\n",
       "      <td>4.0</td>\n",
       "      <td>160.0</td>\n",
       "      <td>286.0</td>\n",
       "      <td>0.0</td>\n",
       "      <td>2.0</td>\n",
       "      <td>108.0</td>\n",
       "      <td>1.0</td>\n",
       "      <td>1.5</td>\n",
       "      <td>2.0</td>\n",
       "      <td>3.0</td>\n",
       "      <td>3.0</td>\n",
       "      <td>2</td>\n",
       "    </tr>\n",
       "    <tr>\n",
       "      <th>2</th>\n",
       "      <td>67.0</td>\n",
       "      <td>1.0</td>\n",
       "      <td>4.0</td>\n",
       "      <td>120.0</td>\n",
       "      <td>229.0</td>\n",
       "      <td>0.0</td>\n",
       "      <td>2.0</td>\n",
       "      <td>129.0</td>\n",
       "      <td>1.0</td>\n",
       "      <td>2.6</td>\n",
       "      <td>2.0</td>\n",
       "      <td>2.0</td>\n",
       "      <td>7.0</td>\n",
       "      <td>1</td>\n",
       "    </tr>\n",
       "    <tr>\n",
       "      <th>3</th>\n",
       "      <td>37.0</td>\n",
       "      <td>1.0</td>\n",
       "      <td>3.0</td>\n",
       "      <td>130.0</td>\n",
       "      <td>250.0</td>\n",
       "      <td>0.0</td>\n",
       "      <td>0.0</td>\n",
       "      <td>187.0</td>\n",
       "      <td>0.0</td>\n",
       "      <td>3.5</td>\n",
       "      <td>3.0</td>\n",
       "      <td>0.0</td>\n",
       "      <td>3.0</td>\n",
       "      <td>0</td>\n",
       "    </tr>\n",
       "    <tr>\n",
       "      <th>4</th>\n",
       "      <td>41.0</td>\n",
       "      <td>0.0</td>\n",
       "      <td>2.0</td>\n",
       "      <td>130.0</td>\n",
       "      <td>204.0</td>\n",
       "      <td>0.0</td>\n",
       "      <td>2.0</td>\n",
       "      <td>172.0</td>\n",
       "      <td>0.0</td>\n",
       "      <td>1.4</td>\n",
       "      <td>1.0</td>\n",
       "      <td>0.0</td>\n",
       "      <td>3.0</td>\n",
       "      <td>0</td>\n",
       "    </tr>\n",
       "  </tbody>\n",
       "</table>\n",
       "</div>"
      ],
      "text/plain": [
       "    Age  Sex  ChestPain  BloodPressure  Cholesterol  Sugar  Ecg  HeartRate  \\\n",
       "0  63.0  1.0        1.0          145.0        233.0    1.0  2.0      150.0   \n",
       "1  67.0  1.0        4.0          160.0        286.0    0.0  2.0      108.0   \n",
       "2  67.0  1.0        4.0          120.0        229.0    0.0  2.0      129.0   \n",
       "3  37.0  1.0        3.0          130.0        250.0    0.0  0.0      187.0   \n",
       "4  41.0  0.0        2.0          130.0        204.0    0.0  2.0      172.0   \n",
       "\n",
       "   Agina  Depression  Peak Vesels Thal  Target  \n",
       "0    0.0         2.3   3.0    0.0  6.0       0  \n",
       "1    1.0         1.5   2.0    3.0  3.0       2  \n",
       "2    1.0         2.6   2.0    2.0  7.0       1  \n",
       "3    0.0         3.5   3.0    0.0  3.0       0  \n",
       "4    0.0         1.4   1.0    0.0  3.0       0  "
      ]
     },
     "execution_count": 84,
     "metadata": {},
     "output_type": "execute_result"
    }
   ],
   "source": [
    "#Loadig Data set from URL and assigning it to a variable. Since the data is CSV, read_csv is used\n",
    "URL = \"https://archive.ics.uci.edu/ml/machine-learning-databases/heart-disease/processed.cleveland.data\"\n",
    "dataSet = pd.read_csv(URL, names = colName )\n",
    "dataSet.head()"
   ]
  },
  {
   "cell_type": "code",
   "execution_count": 53,
   "metadata": {},
   "outputs": [
    {
     "data": {
      "text/plain": [
       "(303, 14)"
      ]
     },
     "execution_count": 53,
     "metadata": {},
     "output_type": "execute_result"
    }
   ],
   "source": [
    "dataSet.shape"
   ]
  },
  {
   "cell_type": "markdown",
   "metadata": {},
   "source": [
    "### Data Cleanup \n",
    "1. Cleaning Data:\n",
    "    - Checked Null values in the data set. But, there is no Null value present in the data set.\n",
    "\n",
    "2. Renaming Column:\n",
    "    - Assigned column name to web data.\n",
    "\n",
    "\n",
    "3. Clean Data/ Impute Missing Value:\n",
    "    - Cleaned Data by checking unique value of Objects. Found different values and removed using index formulas. There is not missing value so no need to impute.\n",
    "\n",
    "\n",
    "4. Selecting Subset of Relevant Column:\n",
    "    - For better model understanding started with all columns but for categorical columns are converted in to label encoding."
   ]
  },
  {
   "cell_type": "code",
   "execution_count": 54,
   "metadata": {},
   "outputs": [
    {
     "data": {
      "text/plain": [
       "Age              float64\n",
       "Sex              float64\n",
       "ChestPain        float64\n",
       "BloodPressure    float64\n",
       "Cholesterol      float64\n",
       "Sugar            float64\n",
       "Ecg              float64\n",
       "HeartRate        float64\n",
       "Agina            float64\n",
       "Depression       float64\n",
       "Peak             float64\n",
       "Vesels            object\n",
       "Thal              object\n",
       "Target             int64\n",
       "dtype: object"
      ]
     },
     "execution_count": 54,
     "metadata": {},
     "output_type": "execute_result"
    }
   ],
   "source": [
    "#Before moving to any of the operation, it is important to understand type of Data set attributes\n",
    "dataSet.dtypes"
   ]
  },
  {
   "cell_type": "code",
   "execution_count": 55,
   "metadata": {},
   "outputs": [
    {
     "data": {
      "text/html": [
       "<div>\n",
       "<style scoped>\n",
       "    .dataframe tbody tr th:only-of-type {\n",
       "        vertical-align: middle;\n",
       "    }\n",
       "\n",
       "    .dataframe tbody tr th {\n",
       "        vertical-align: top;\n",
       "    }\n",
       "\n",
       "    .dataframe thead th {\n",
       "        text-align: right;\n",
       "    }\n",
       "</style>\n",
       "<table border=\"1\" class=\"dataframe\">\n",
       "  <thead>\n",
       "    <tr style=\"text-align: right;\">\n",
       "      <th></th>\n",
       "      <th>Age</th>\n",
       "      <th>Sex</th>\n",
       "      <th>ChestPain</th>\n",
       "      <th>BloodPressure</th>\n",
       "      <th>Cholesterol</th>\n",
       "      <th>Sugar</th>\n",
       "      <th>Ecg</th>\n",
       "      <th>HeartRate</th>\n",
       "      <th>Agina</th>\n",
       "      <th>Depression</th>\n",
       "      <th>Peak</th>\n",
       "      <th>Vesels</th>\n",
       "      <th>Thal</th>\n",
       "      <th>Target</th>\n",
       "    </tr>\n",
       "  </thead>\n",
       "  <tbody>\n",
       "    <tr>\n",
       "      <th>0</th>\n",
       "      <td>False</td>\n",
       "      <td>False</td>\n",
       "      <td>False</td>\n",
       "      <td>False</td>\n",
       "      <td>False</td>\n",
       "      <td>False</td>\n",
       "      <td>False</td>\n",
       "      <td>False</td>\n",
       "      <td>False</td>\n",
       "      <td>False</td>\n",
       "      <td>False</td>\n",
       "      <td>False</td>\n",
       "      <td>False</td>\n",
       "      <td>False</td>\n",
       "    </tr>\n",
       "    <tr>\n",
       "      <th>1</th>\n",
       "      <td>False</td>\n",
       "      <td>False</td>\n",
       "      <td>False</td>\n",
       "      <td>False</td>\n",
       "      <td>False</td>\n",
       "      <td>False</td>\n",
       "      <td>False</td>\n",
       "      <td>False</td>\n",
       "      <td>False</td>\n",
       "      <td>False</td>\n",
       "      <td>False</td>\n",
       "      <td>False</td>\n",
       "      <td>False</td>\n",
       "      <td>False</td>\n",
       "    </tr>\n",
       "    <tr>\n",
       "      <th>2</th>\n",
       "      <td>False</td>\n",
       "      <td>False</td>\n",
       "      <td>False</td>\n",
       "      <td>False</td>\n",
       "      <td>False</td>\n",
       "      <td>False</td>\n",
       "      <td>False</td>\n",
       "      <td>False</td>\n",
       "      <td>False</td>\n",
       "      <td>False</td>\n",
       "      <td>False</td>\n",
       "      <td>False</td>\n",
       "      <td>False</td>\n",
       "      <td>False</td>\n",
       "    </tr>\n",
       "    <tr>\n",
       "      <th>3</th>\n",
       "      <td>False</td>\n",
       "      <td>False</td>\n",
       "      <td>False</td>\n",
       "      <td>False</td>\n",
       "      <td>False</td>\n",
       "      <td>False</td>\n",
       "      <td>False</td>\n",
       "      <td>False</td>\n",
       "      <td>False</td>\n",
       "      <td>False</td>\n",
       "      <td>False</td>\n",
       "      <td>False</td>\n",
       "      <td>False</td>\n",
       "      <td>False</td>\n",
       "    </tr>\n",
       "    <tr>\n",
       "      <th>4</th>\n",
       "      <td>False</td>\n",
       "      <td>False</td>\n",
       "      <td>False</td>\n",
       "      <td>False</td>\n",
       "      <td>False</td>\n",
       "      <td>False</td>\n",
       "      <td>False</td>\n",
       "      <td>False</td>\n",
       "      <td>False</td>\n",
       "      <td>False</td>\n",
       "      <td>False</td>\n",
       "      <td>False</td>\n",
       "      <td>False</td>\n",
       "      <td>False</td>\n",
       "    </tr>\n",
       "    <tr>\n",
       "      <th>...</th>\n",
       "      <td>...</td>\n",
       "      <td>...</td>\n",
       "      <td>...</td>\n",
       "      <td>...</td>\n",
       "      <td>...</td>\n",
       "      <td>...</td>\n",
       "      <td>...</td>\n",
       "      <td>...</td>\n",
       "      <td>...</td>\n",
       "      <td>...</td>\n",
       "      <td>...</td>\n",
       "      <td>...</td>\n",
       "      <td>...</td>\n",
       "      <td>...</td>\n",
       "    </tr>\n",
       "    <tr>\n",
       "      <th>298</th>\n",
       "      <td>False</td>\n",
       "      <td>False</td>\n",
       "      <td>False</td>\n",
       "      <td>False</td>\n",
       "      <td>False</td>\n",
       "      <td>False</td>\n",
       "      <td>False</td>\n",
       "      <td>False</td>\n",
       "      <td>False</td>\n",
       "      <td>False</td>\n",
       "      <td>False</td>\n",
       "      <td>False</td>\n",
       "      <td>False</td>\n",
       "      <td>False</td>\n",
       "    </tr>\n",
       "    <tr>\n",
       "      <th>299</th>\n",
       "      <td>False</td>\n",
       "      <td>False</td>\n",
       "      <td>False</td>\n",
       "      <td>False</td>\n",
       "      <td>False</td>\n",
       "      <td>False</td>\n",
       "      <td>False</td>\n",
       "      <td>False</td>\n",
       "      <td>False</td>\n",
       "      <td>False</td>\n",
       "      <td>False</td>\n",
       "      <td>False</td>\n",
       "      <td>False</td>\n",
       "      <td>False</td>\n",
       "    </tr>\n",
       "    <tr>\n",
       "      <th>300</th>\n",
       "      <td>False</td>\n",
       "      <td>False</td>\n",
       "      <td>False</td>\n",
       "      <td>False</td>\n",
       "      <td>False</td>\n",
       "      <td>False</td>\n",
       "      <td>False</td>\n",
       "      <td>False</td>\n",
       "      <td>False</td>\n",
       "      <td>False</td>\n",
       "      <td>False</td>\n",
       "      <td>False</td>\n",
       "      <td>False</td>\n",
       "      <td>False</td>\n",
       "    </tr>\n",
       "    <tr>\n",
       "      <th>301</th>\n",
       "      <td>False</td>\n",
       "      <td>False</td>\n",
       "      <td>False</td>\n",
       "      <td>False</td>\n",
       "      <td>False</td>\n",
       "      <td>False</td>\n",
       "      <td>False</td>\n",
       "      <td>False</td>\n",
       "      <td>False</td>\n",
       "      <td>False</td>\n",
       "      <td>False</td>\n",
       "      <td>False</td>\n",
       "      <td>False</td>\n",
       "      <td>False</td>\n",
       "    </tr>\n",
       "    <tr>\n",
       "      <th>302</th>\n",
       "      <td>False</td>\n",
       "      <td>False</td>\n",
       "      <td>False</td>\n",
       "      <td>False</td>\n",
       "      <td>False</td>\n",
       "      <td>False</td>\n",
       "      <td>False</td>\n",
       "      <td>False</td>\n",
       "      <td>False</td>\n",
       "      <td>False</td>\n",
       "      <td>False</td>\n",
       "      <td>False</td>\n",
       "      <td>False</td>\n",
       "      <td>False</td>\n",
       "    </tr>\n",
       "  </tbody>\n",
       "</table>\n",
       "<p>303 rows × 14 columns</p>\n",
       "</div>"
      ],
      "text/plain": [
       "       Age    Sex  ChestPain  BloodPressure  Cholesterol  Sugar    Ecg  \\\n",
       "0    False  False      False          False        False  False  False   \n",
       "1    False  False      False          False        False  False  False   \n",
       "2    False  False      False          False        False  False  False   \n",
       "3    False  False      False          False        False  False  False   \n",
       "4    False  False      False          False        False  False  False   \n",
       "..     ...    ...        ...            ...          ...    ...    ...   \n",
       "298  False  False      False          False        False  False  False   \n",
       "299  False  False      False          False        False  False  False   \n",
       "300  False  False      False          False        False  False  False   \n",
       "301  False  False      False          False        False  False  False   \n",
       "302  False  False      False          False        False  False  False   \n",
       "\n",
       "     HeartRate  Agina  Depression   Peak  Vesels   Thal  Target  \n",
       "0        False  False       False  False   False  False   False  \n",
       "1        False  False       False  False   False  False   False  \n",
       "2        False  False       False  False   False  False   False  \n",
       "3        False  False       False  False   False  False   False  \n",
       "4        False  False       False  False   False  False   False  \n",
       "..         ...    ...         ...    ...     ...    ...     ...  \n",
       "298      False  False       False  False   False  False   False  \n",
       "299      False  False       False  False   False  False   False  \n",
       "300      False  False       False  False   False  False   False  \n",
       "301      False  False       False  False   False  False   False  \n",
       "302      False  False       False  False   False  False   False  \n",
       "\n",
       "[303 rows x 14 columns]"
      ]
     },
     "execution_count": 55,
     "metadata": {},
     "output_type": "execute_result"
    }
   ],
   "source": [
    "#To identify any missing value in the dataset, isnull allows to identify that\n",
    "dataSet.isnull()\n",
    "\n",
    "#There is no missing values in the data set"
   ]
  },
  {
   "cell_type": "code",
   "execution_count": 56,
   "metadata": {},
   "outputs": [
    {
     "name": "stdout",
     "output_type": "stream",
     "text": [
      "' Vesels ' Unique Val: ['0.0' '3.0' '2.0' '1.0' '?'] dType: object \n",
      "\n",
      "' Thal ' Unique Val: ['6.0' '3.0' '7.0' '?'] dType: object \n",
      "\n"
     ]
    }
   ],
   "source": [
    "#For any objective or categorical data, it is important to know the unique values of it.\n",
    "for i in range(dataSet.shape[1]):\n",
    "    var = str(colName[i])\n",
    "    if dataSet[var].dtype =='O':\n",
    "        print(\"'\",var,\"'\", \"Unique Val:\",dataSet[var].unique(), \"dType:\", \"object\",\"\\n\")"
   ]
  },
  {
   "cell_type": "code",
   "execution_count": 85,
   "metadata": {},
   "outputs": [
    {
     "data": {
      "text/plain": [
       "array(['6.0', '3.0', '7.0'], dtype=object)"
      ]
     },
     "execution_count": 85,
     "metadata": {},
     "output_type": "execute_result"
    }
   ],
   "source": [
    "#Replacing different entity of Object value\n",
    "dataSet[dataSet[\"Thal\"]== \"?\"]\n",
    "\n",
    "#Dropping the row containing different value for better model building and visualization\n",
    "dataSet = dataSet.drop(dataSet[dataSet[\"Thal\"]== \"?\"].index)\n",
    "\n",
    "#Checking again if dropping works or not.\n",
    "dataSet['Thal'].unique()"
   ]
  },
  {
   "cell_type": "code",
   "execution_count": 86,
   "metadata": {},
   "outputs": [
    {
     "data": {
      "text/plain": [
       "array(['0.0', '3.0', '2.0', '1.0'], dtype=object)"
      ]
     },
     "execution_count": 86,
     "metadata": {},
     "output_type": "execute_result"
    }
   ],
   "source": [
    "#Same opration is followed for vessels which has been implemented for Thal.\n",
    "dataSet[dataSet[\"Vesels\"]== \"?\"]\n",
    "dataSet = dataSet.drop(dataSet[dataSet[\"Vesels\"]== \"?\"].index)\n",
    "dataSet['Vesels'].unique()"
   ]
  },
  {
   "cell_type": "code",
   "execution_count": 59,
   "metadata": {},
   "outputs": [
    {
     "data": {
      "text/html": [
       "<div>\n",
       "<style scoped>\n",
       "    .dataframe tbody tr th:only-of-type {\n",
       "        vertical-align: middle;\n",
       "    }\n",
       "\n",
       "    .dataframe tbody tr th {\n",
       "        vertical-align: top;\n",
       "    }\n",
       "\n",
       "    .dataframe thead th {\n",
       "        text-align: right;\n",
       "    }\n",
       "</style>\n",
       "<table border=\"1\" class=\"dataframe\">\n",
       "  <thead>\n",
       "    <tr style=\"text-align: right;\">\n",
       "      <th></th>\n",
       "      <th>Age</th>\n",
       "      <th>Sex</th>\n",
       "      <th>ChestPain</th>\n",
       "      <th>BloodPressure</th>\n",
       "      <th>Cholesterol</th>\n",
       "      <th>Sugar</th>\n",
       "      <th>Ecg</th>\n",
       "      <th>HeartRate</th>\n",
       "      <th>Agina</th>\n",
       "      <th>Depression</th>\n",
       "      <th>Peak</th>\n",
       "      <th>Vesels</th>\n",
       "      <th>Thal</th>\n",
       "      <th>Target</th>\n",
       "    </tr>\n",
       "  </thead>\n",
       "  <tbody>\n",
       "    <tr>\n",
       "      <th>0</th>\n",
       "      <td>63.0</td>\n",
       "      <td>1.0</td>\n",
       "      <td>1.0</td>\n",
       "      <td>145.0</td>\n",
       "      <td>233.0</td>\n",
       "      <td>1.0</td>\n",
       "      <td>2.0</td>\n",
       "      <td>150.0</td>\n",
       "      <td>0.0</td>\n",
       "      <td>2.3</td>\n",
       "      <td>3.0</td>\n",
       "      <td>0.0</td>\n",
       "      <td>6.0</td>\n",
       "      <td>0</td>\n",
       "    </tr>\n",
       "    <tr>\n",
       "      <th>1</th>\n",
       "      <td>67.0</td>\n",
       "      <td>1.0</td>\n",
       "      <td>4.0</td>\n",
       "      <td>160.0</td>\n",
       "      <td>286.0</td>\n",
       "      <td>0.0</td>\n",
       "      <td>2.0</td>\n",
       "      <td>108.0</td>\n",
       "      <td>1.0</td>\n",
       "      <td>1.5</td>\n",
       "      <td>2.0</td>\n",
       "      <td>3.0</td>\n",
       "      <td>3.0</td>\n",
       "      <td>2</td>\n",
       "    </tr>\n",
       "    <tr>\n",
       "      <th>2</th>\n",
       "      <td>67.0</td>\n",
       "      <td>1.0</td>\n",
       "      <td>4.0</td>\n",
       "      <td>120.0</td>\n",
       "      <td>229.0</td>\n",
       "      <td>0.0</td>\n",
       "      <td>2.0</td>\n",
       "      <td>129.0</td>\n",
       "      <td>1.0</td>\n",
       "      <td>2.6</td>\n",
       "      <td>2.0</td>\n",
       "      <td>2.0</td>\n",
       "      <td>7.0</td>\n",
       "      <td>1</td>\n",
       "    </tr>\n",
       "    <tr>\n",
       "      <th>3</th>\n",
       "      <td>37.0</td>\n",
       "      <td>1.0</td>\n",
       "      <td>3.0</td>\n",
       "      <td>130.0</td>\n",
       "      <td>250.0</td>\n",
       "      <td>0.0</td>\n",
       "      <td>0.0</td>\n",
       "      <td>187.0</td>\n",
       "      <td>0.0</td>\n",
       "      <td>3.5</td>\n",
       "      <td>3.0</td>\n",
       "      <td>0.0</td>\n",
       "      <td>3.0</td>\n",
       "      <td>0</td>\n",
       "    </tr>\n",
       "    <tr>\n",
       "      <th>4</th>\n",
       "      <td>41.0</td>\n",
       "      <td>0.0</td>\n",
       "      <td>2.0</td>\n",
       "      <td>130.0</td>\n",
       "      <td>204.0</td>\n",
       "      <td>0.0</td>\n",
       "      <td>2.0</td>\n",
       "      <td>172.0</td>\n",
       "      <td>0.0</td>\n",
       "      <td>1.4</td>\n",
       "      <td>1.0</td>\n",
       "      <td>0.0</td>\n",
       "      <td>3.0</td>\n",
       "      <td>0</td>\n",
       "    </tr>\n",
       "  </tbody>\n",
       "</table>\n",
       "</div>"
      ],
      "text/plain": [
       "    Age  Sex  ChestPain  BloodPressure  Cholesterol  Sugar  Ecg  HeartRate  \\\n",
       "0  63.0  1.0        1.0          145.0        233.0    1.0  2.0      150.0   \n",
       "1  67.0  1.0        4.0          160.0        286.0    0.0  2.0      108.0   \n",
       "2  67.0  1.0        4.0          120.0        229.0    0.0  2.0      129.0   \n",
       "3  37.0  1.0        3.0          130.0        250.0    0.0  0.0      187.0   \n",
       "4  41.0  0.0        2.0          130.0        204.0    0.0  2.0      172.0   \n",
       "\n",
       "   Agina  Depression  Peak Vesels Thal  Target  \n",
       "0    0.0         2.3   3.0    0.0  6.0       0  \n",
       "1    1.0         1.5   2.0    3.0  3.0       2  \n",
       "2    1.0         2.6   2.0    2.0  7.0       1  \n",
       "3    0.0         3.5   3.0    0.0  3.0       0  \n",
       "4    0.0         1.4   1.0    0.0  3.0       0  "
      ]
     },
     "execution_count": 59,
     "metadata": {},
     "output_type": "execute_result"
    }
   ],
   "source": [
    "#Checking Head value to make sure the data is consists and following ACID Property\n",
    "dataSet.head()"
   ]
  },
  {
   "cell_type": "code",
   "execution_count": 60,
   "metadata": {},
   "outputs": [
    {
     "data": {
      "text/plain": [
       "Age              float64\n",
       "Sex              float64\n",
       "ChestPain        float64\n",
       "BloodPressure    float64\n",
       "Cholesterol      float64\n",
       "Sugar            float64\n",
       "Ecg              float64\n",
       "HeartRate        float64\n",
       "Agina            float64\n",
       "Depression       float64\n",
       "Peak             float64\n",
       "Vesels            object\n",
       "Thal              object\n",
       "Target             int64\n",
       "dtype: object"
      ]
     },
     "execution_count": 60,
     "metadata": {},
     "output_type": "execute_result"
    }
   ],
   "source": [
    "#Checking types of attributes to confirm that after operation it did not change\n",
    "dataSet.dtypes"
   ]
  },
  {
   "cell_type": "code",
   "execution_count": 61,
   "metadata": {},
   "outputs": [
    {
     "data": {
      "text/plain": [
       "(297, 14)"
      ]
     },
     "execution_count": 61,
     "metadata": {},
     "output_type": "execute_result"
    }
   ],
   "source": [
    "#Checking the amount data values dropped\n",
    "dataSet.shape"
   ]
  },
  {
   "cell_type": "code",
   "execution_count": 87,
   "metadata": {},
   "outputs": [],
   "source": [
    "#Change Binary numeric to categorical\n",
    "#Assigining the Categorical value with string for better visualization\n",
    "#df.loc[<mask>(here mask is generating the labels to index) , <optional column(s)> ] = set value for optional column\n",
    "dataSet.loc[dataSet['Sex'] == 0,'Sex'] = \"Female\"\n",
    "dataSet.loc[dataSet['Sex'] == 1,'Sex'] = \"Male\"\n",
    "\n",
    "\"\"\"Chest Pain: chest pain type \n",
    "-- Value 1: typical angina \n",
    "-- Value 2: atypical angina \n",
    "-- Value 3: non-anginal pain \n",
    "-- Value 4: asymptomatic \"\"\"\n",
    "dataSet.loc[dataSet['ChestPain'] == 1,'ChestPain'] = 'Typical Angina'\n",
    "dataSet.loc[dataSet['ChestPain'] == 2,'ChestPain'] = 'Atypical Angina'\n",
    "dataSet.loc[dataSet['ChestPain'] == 3,'ChestPain'] = 'Non-angina pain'\n",
    "dataSet.loc[dataSet['ChestPain'] == 4,'ChestPain'] = 'Asymptomatic'\n",
    "\n",
    "\"\"\"\n",
    "Fasting Blood Sugar is >120 mg/dl then 1 else 0. \n",
    "So changing values to Categort such as Presence of Sugar: 'Yes' or 'No'\n",
    "\"\"\"\n",
    "dataSet.loc[dataSet['Sugar'] == 0, 'Sugar'] = \"No\"\n",
    "dataSet.loc[dataSet['Sugar'] == 1, 'Sugar'] = \"Yes\"\n",
    "\n",
    "\"\"\"\n",
    "Ecg has 3 three results: \n",
    "-- Value 0: normal \n",
    "-- Value 1: having ST-T wave abnormality (T wave inversions and/or ST elevation or depression of > 0.05 mV) \n",
    "-- Value 2: showing probable or definite left ventricular hypertrophy by Estes' criteria \n",
    "\"\"\"\n",
    "dataSet.loc[dataSet['Ecg'] ==0,'Ecg']=\"Normal\"\n",
    "dataSet.loc[dataSet['Ecg'] ==1,'Ecg']=\"STT Wave\"\n",
    "dataSet.loc[dataSet['Ecg'] ==2,'Ecg']=\"Estes\"\n",
    "\n",
    "\"\"\"\n",
    "Exercises Included in Angina\n",
    "0 : No\n",
    "1: Yes\n",
    "\"\"\"\n",
    "dataSet.loc[dataSet['Agina'] == 0,'Agina'] = \"No\"\n",
    "dataSet.loc[dataSet['Agina'] == 1,'Agina'] = \"Yes\"\n",
    "\n",
    "\"\"\"slope: the slope of the peak exercise ST segment \n",
    "-- Value 1: upsloping \n",
    "-- Value 2: flat \n",
    "-- Value 3: downsloping \"\"\"\n",
    "dataSet.loc[dataSet['Peak'] == 1, 'Peak'] = \"Unsloping\"\n",
    "dataSet.loc[dataSet['Peak'] == 2, 'Peak'] = \"Flat\"\n",
    "dataSet.loc[dataSet['Peak'] == 3, 'Peak'] = \"Downsloping\"\n",
    "\n",
    "\n",
    "\"\"\"\n",
    "Thal level: 3 = normal; 6 = fixed defect; 7 = reversable defect \n",
    "\"\"\"\n",
    "dataSet.loc[dataSet['Thal'] == \"3.0\", 'Thal'] = 'Normal'\n",
    "dataSet.loc[dataSet['Thal'] == \"6.0\", 'Thal'] = 'Fixed'\n",
    "dataSet.loc[dataSet['Thal'] == \"7.0\", 'Thal'] = 'Reversable'\n",
    "\n",
    "\"\"\"\n",
    "Target Value: 0 = Absend and Put 0, for 1,2,3,4,= Present = Put 1\n",
    "\"\"\"\n",
    "dataSet.loc[dataSet['Target'] == 0, 'Target'] = 0\n",
    "dataSet.loc[dataSet['Target'] == 1, 'Target'] = 1\n",
    "dataSet.loc[dataSet['Target'] == 2, 'Target'] = 1\n",
    "dataSet.loc[dataSet['Target'] == 3, 'Target'] = 1\n",
    "dataSet.loc[dataSet['Target'] == 4, 'Target'] = 1"
   ]
  },
  {
   "cell_type": "code",
   "execution_count": 63,
   "metadata": {},
   "outputs": [
    {
     "data": {
      "text/plain": [
       "Age              float64\n",
       "Sex               object\n",
       "ChestPain         object\n",
       "BloodPressure    float64\n",
       "Cholesterol      float64\n",
       "Sugar             object\n",
       "Ecg               object\n",
       "HeartRate        float64\n",
       "Agina             object\n",
       "Depression       float64\n",
       "Peak              object\n",
       "Vesels            object\n",
       "Thal              object\n",
       "Target             int64\n",
       "dtype: object"
      ]
     },
     "execution_count": 63,
     "metadata": {},
     "output_type": "execute_result"
    }
   ],
   "source": [
    "#Checks the type of data after transformation\n",
    "dataSet.dtypes"
   ]
  },
  {
   "cell_type": "code",
   "execution_count": 64,
   "metadata": {},
   "outputs": [
    {
     "data": {
      "text/html": [
       "<div>\n",
       "<style scoped>\n",
       "    .dataframe tbody tr th:only-of-type {\n",
       "        vertical-align: middle;\n",
       "    }\n",
       "\n",
       "    .dataframe tbody tr th {\n",
       "        vertical-align: top;\n",
       "    }\n",
       "\n",
       "    .dataframe thead th {\n",
       "        text-align: right;\n",
       "    }\n",
       "</style>\n",
       "<table border=\"1\" class=\"dataframe\">\n",
       "  <thead>\n",
       "    <tr style=\"text-align: right;\">\n",
       "      <th></th>\n",
       "      <th>Age</th>\n",
       "      <th>Sex</th>\n",
       "      <th>ChestPain</th>\n",
       "      <th>BloodPressure</th>\n",
       "      <th>Cholesterol</th>\n",
       "      <th>Sugar</th>\n",
       "      <th>Ecg</th>\n",
       "      <th>HeartRate</th>\n",
       "      <th>Agina</th>\n",
       "      <th>Depression</th>\n",
       "      <th>Peak</th>\n",
       "      <th>Vesels</th>\n",
       "      <th>Thal</th>\n",
       "      <th>Target</th>\n",
       "    </tr>\n",
       "  </thead>\n",
       "  <tbody>\n",
       "    <tr>\n",
       "      <th>0</th>\n",
       "      <td>63.0</td>\n",
       "      <td>Male</td>\n",
       "      <td>Typical Angina</td>\n",
       "      <td>145.0</td>\n",
       "      <td>233.0</td>\n",
       "      <td>Yes</td>\n",
       "      <td>Estes</td>\n",
       "      <td>150.0</td>\n",
       "      <td>No</td>\n",
       "      <td>2.3</td>\n",
       "      <td>Downsloping</td>\n",
       "      <td>0.0</td>\n",
       "      <td>Fixed</td>\n",
       "      <td>0</td>\n",
       "    </tr>\n",
       "    <tr>\n",
       "      <th>1</th>\n",
       "      <td>67.0</td>\n",
       "      <td>Male</td>\n",
       "      <td>Asymptomatic</td>\n",
       "      <td>160.0</td>\n",
       "      <td>286.0</td>\n",
       "      <td>No</td>\n",
       "      <td>Estes</td>\n",
       "      <td>108.0</td>\n",
       "      <td>Yes</td>\n",
       "      <td>1.5</td>\n",
       "      <td>Flat</td>\n",
       "      <td>3.0</td>\n",
       "      <td>Normal</td>\n",
       "      <td>1</td>\n",
       "    </tr>\n",
       "    <tr>\n",
       "      <th>2</th>\n",
       "      <td>67.0</td>\n",
       "      <td>Male</td>\n",
       "      <td>Asymptomatic</td>\n",
       "      <td>120.0</td>\n",
       "      <td>229.0</td>\n",
       "      <td>No</td>\n",
       "      <td>Estes</td>\n",
       "      <td>129.0</td>\n",
       "      <td>Yes</td>\n",
       "      <td>2.6</td>\n",
       "      <td>Flat</td>\n",
       "      <td>2.0</td>\n",
       "      <td>Reversable</td>\n",
       "      <td>1</td>\n",
       "    </tr>\n",
       "    <tr>\n",
       "      <th>3</th>\n",
       "      <td>37.0</td>\n",
       "      <td>Male</td>\n",
       "      <td>Non-angina pain</td>\n",
       "      <td>130.0</td>\n",
       "      <td>250.0</td>\n",
       "      <td>No</td>\n",
       "      <td>Normal</td>\n",
       "      <td>187.0</td>\n",
       "      <td>No</td>\n",
       "      <td>3.5</td>\n",
       "      <td>Downsloping</td>\n",
       "      <td>0.0</td>\n",
       "      <td>Normal</td>\n",
       "      <td>0</td>\n",
       "    </tr>\n",
       "    <tr>\n",
       "      <th>4</th>\n",
       "      <td>41.0</td>\n",
       "      <td>Female</td>\n",
       "      <td>Atypical Angina</td>\n",
       "      <td>130.0</td>\n",
       "      <td>204.0</td>\n",
       "      <td>No</td>\n",
       "      <td>Estes</td>\n",
       "      <td>172.0</td>\n",
       "      <td>No</td>\n",
       "      <td>1.4</td>\n",
       "      <td>Unsloping</td>\n",
       "      <td>0.0</td>\n",
       "      <td>Normal</td>\n",
       "      <td>0</td>\n",
       "    </tr>\n",
       "  </tbody>\n",
       "</table>\n",
       "</div>"
      ],
      "text/plain": [
       "    Age     Sex        ChestPain  BloodPressure  Cholesterol Sugar     Ecg  \\\n",
       "0  63.0    Male   Typical Angina          145.0        233.0   Yes   Estes   \n",
       "1  67.0    Male     Asymptomatic          160.0        286.0    No   Estes   \n",
       "2  67.0    Male     Asymptomatic          120.0        229.0    No   Estes   \n",
       "3  37.0    Male  Non-angina pain          130.0        250.0    No  Normal   \n",
       "4  41.0  Female  Atypical Angina          130.0        204.0    No   Estes   \n",
       "\n",
       "   HeartRate Agina  Depression         Peak Vesels        Thal  Target  \n",
       "0      150.0    No         2.3  Downsloping    0.0       Fixed       0  \n",
       "1      108.0   Yes         1.5         Flat    3.0      Normal       1  \n",
       "2      129.0   Yes         2.6         Flat    2.0  Reversable       1  \n",
       "3      187.0    No         3.5  Downsloping    0.0      Normal       0  \n",
       "4      172.0    No         1.4    Unsloping    0.0      Normal       0  "
      ]
     },
     "execution_count": 64,
     "metadata": {},
     "output_type": "execute_result"
    }
   ],
   "source": [
    "#Checking Head valye after data transformation\n",
    "dataSet.head()"
   ]
  },
  {
   "cell_type": "code",
   "execution_count": 69,
   "metadata": {},
   "outputs": [
    {
     "data": {
      "text/html": [
       "<div>\n",
       "<style scoped>\n",
       "    .dataframe tbody tr th:only-of-type {\n",
       "        vertical-align: middle;\n",
       "    }\n",
       "\n",
       "    .dataframe tbody tr th {\n",
       "        vertical-align: top;\n",
       "    }\n",
       "\n",
       "    .dataframe thead th {\n",
       "        text-align: right;\n",
       "    }\n",
       "</style>\n",
       "<table border=\"1\" class=\"dataframe\">\n",
       "  <thead>\n",
       "    <tr style=\"text-align: right;\">\n",
       "      <th></th>\n",
       "      <th>Age</th>\n",
       "      <th>BloodPressure</th>\n",
       "      <th>Cholesterol</th>\n",
       "      <th>HeartRate</th>\n",
       "      <th>Depression</th>\n",
       "      <th>Target</th>\n",
       "    </tr>\n",
       "  </thead>\n",
       "  <tbody>\n",
       "    <tr>\n",
       "      <th>count</th>\n",
       "      <td>297.000000</td>\n",
       "      <td>297.000000</td>\n",
       "      <td>297.000000</td>\n",
       "      <td>297.000000</td>\n",
       "      <td>297.000000</td>\n",
       "      <td>297.000000</td>\n",
       "    </tr>\n",
       "    <tr>\n",
       "      <th>mean</th>\n",
       "      <td>54.542088</td>\n",
       "      <td>131.693603</td>\n",
       "      <td>247.350168</td>\n",
       "      <td>149.599327</td>\n",
       "      <td>1.055556</td>\n",
       "      <td>0.461279</td>\n",
       "    </tr>\n",
       "    <tr>\n",
       "      <th>std</th>\n",
       "      <td>9.049736</td>\n",
       "      <td>17.762806</td>\n",
       "      <td>51.997583</td>\n",
       "      <td>22.941562</td>\n",
       "      <td>1.166123</td>\n",
       "      <td>0.499340</td>\n",
       "    </tr>\n",
       "    <tr>\n",
       "      <th>min</th>\n",
       "      <td>29.000000</td>\n",
       "      <td>94.000000</td>\n",
       "      <td>126.000000</td>\n",
       "      <td>71.000000</td>\n",
       "      <td>0.000000</td>\n",
       "      <td>0.000000</td>\n",
       "    </tr>\n",
       "    <tr>\n",
       "      <th>25%</th>\n",
       "      <td>48.000000</td>\n",
       "      <td>120.000000</td>\n",
       "      <td>211.000000</td>\n",
       "      <td>133.000000</td>\n",
       "      <td>0.000000</td>\n",
       "      <td>0.000000</td>\n",
       "    </tr>\n",
       "    <tr>\n",
       "      <th>50%</th>\n",
       "      <td>56.000000</td>\n",
       "      <td>130.000000</td>\n",
       "      <td>243.000000</td>\n",
       "      <td>153.000000</td>\n",
       "      <td>0.800000</td>\n",
       "      <td>0.000000</td>\n",
       "    </tr>\n",
       "    <tr>\n",
       "      <th>75%</th>\n",
       "      <td>61.000000</td>\n",
       "      <td>140.000000</td>\n",
       "      <td>276.000000</td>\n",
       "      <td>166.000000</td>\n",
       "      <td>1.600000</td>\n",
       "      <td>1.000000</td>\n",
       "    </tr>\n",
       "    <tr>\n",
       "      <th>max</th>\n",
       "      <td>77.000000</td>\n",
       "      <td>200.000000</td>\n",
       "      <td>564.000000</td>\n",
       "      <td>202.000000</td>\n",
       "      <td>6.200000</td>\n",
       "      <td>1.000000</td>\n",
       "    </tr>\n",
       "  </tbody>\n",
       "</table>\n",
       "</div>"
      ],
      "text/plain": [
       "              Age  BloodPressure  Cholesterol   HeartRate  Depression  \\\n",
       "count  297.000000     297.000000   297.000000  297.000000  297.000000   \n",
       "mean    54.542088     131.693603   247.350168  149.599327    1.055556   \n",
       "std      9.049736      17.762806    51.997583   22.941562    1.166123   \n",
       "min     29.000000      94.000000   126.000000   71.000000    0.000000   \n",
       "25%     48.000000     120.000000   211.000000  133.000000    0.000000   \n",
       "50%     56.000000     130.000000   243.000000  153.000000    0.800000   \n",
       "75%     61.000000     140.000000   276.000000  166.000000    1.600000   \n",
       "max     77.000000     200.000000   564.000000  202.000000    6.200000   \n",
       "\n",
       "           Target  \n",
       "count  297.000000  \n",
       "mean     0.461279  \n",
       "std      0.499340  \n",
       "min      0.000000  \n",
       "25%      0.000000  \n",
       "50%      0.000000  \n",
       "75%      1.000000  \n",
       "max      1.000000  "
      ]
     },
     "execution_count": 69,
     "metadata": {},
     "output_type": "execute_result"
    }
   ],
   "source": [
    "dataSet.describe()"
   ]
  },
  {
   "cell_type": "code",
   "execution_count": 88,
   "metadata": {},
   "outputs": [
    {
     "name": "stdout",
     "output_type": "stream",
     "text": [
      "Sex Unique Val: ['Male' 'Female'] dType: object\n",
      "\n",
      "\n",
      "ChestPain Unique Val: ['Typical Angina' 'Asymptomatic' 'Non-angina pain' 'Atypical Angina'] dType: object\n",
      "\n",
      "\n",
      "Sugar Unique Val: ['Yes' 'No'] dType: object\n",
      "\n",
      "\n",
      "Ecg Unique Val: ['Estes' 'Normal' 'STT Wave'] dType: object\n",
      "\n",
      "\n",
      "Agina Unique Val: ['No' 'Yes'] dType: object\n",
      "\n",
      "\n",
      "Peak Unique Val: ['Downsloping' 'Flat' 'Unsloping'] dType: object\n",
      "\n",
      "\n",
      "Vesels Unique Val: ['0.0' '3.0' '2.0' '1.0'] dType: object\n",
      "\n",
      "\n",
      "Thal Unique Val: ['Fixed' 'Normal' 'Reversable'] dType: object\n",
      "\n",
      "\n"
     ]
    }
   ],
   "source": [
    "#For any objective or categorical data, it is important to know the unique values of it.\n",
    "for i in range(dataSet.shape[1]):\n",
    "    var = str(colName[i])\n",
    "    if dataSet[var].dtype =='O':\n",
    "        print(var, \"Unique Val:\",dataSet[var].unique(), \"dType:\", \"object\")\n",
    "        print(\"\\n\")"
   ]
  },
  {
   "cell_type": "markdown",
   "metadata": {},
   "source": [
    "### Data Visualization:\n",
    "\n",
    "* Visualization of Important aspects with Outlier and Trends:\n",
    "    - Most of the observant patients have age range between 40 years to 60 yeras. The data is not completely normally distributed and it contains couple of outliers. More than 30 entities have age approx. 55 years.\n",
    "    - Blood Pressure is the key point in the heart disease. Common value of blood pressure seems 120 which is good but variation is from 110 to 145 which is not bad. Outliers seem more dangerous value in real - life.\n",
    "    -  Cholesterol is normally distributed graph except one or two outliers which will not make lot of change in a model. "
   ]
  },
  {
   "cell_type": "code",
   "execution_count": 73,
   "metadata": {},
   "outputs": [
    {
     "data": {
      "image/png": "[encoded data removed]",
      "text/plain": [
       "<Figure size 792x504 with 1 Axes>"
      ]
     },
     "metadata": {},
     "output_type": "display_data"
    },
    {
     "data": {
      "image/png": "[encoded data removed]",
      "text/plain": [
       "<Figure size 792x504 with 1 Axes>"
      ]
     },
     "metadata": {},
     "output_type": "display_data"
    },
    {
     "data": {
      "image/png": "[encoded data removed]",
      "text/plain": [
       "<Figure size 792x504 with 1 Axes>"
      ]
     },
     "metadata": {},
     "output_type": "display_data"
    }
   ],
   "source": [
    "plt.style.use('ggplot')\n",
    "\n",
    "#Identify the age distirbution to check whether data is normally distributed or outliers can be seen\n",
    "plt.figure(figsize= (11,7))\n",
    "plt.hist(dataSet.Age, color= '#EC7B7B', bins=30)\n",
    "plt.title(\"Age data distribution in Data Set\")\n",
    "plt.xlabel(\"Age\")\n",
    "plt.ylabel(\"Frequency\")\n",
    "plt.show()\n",
    "\n",
    "#Distribution of Bloodpressure in the DataSet\n",
    "plt.figure(figsize= (11,7))\n",
    "plt.hist(dataSet.BloodPressure, color = \"#59CDD6\", bins = 30)\n",
    "plt.title(\"Blood pressure distribution in the DataSet\")\n",
    "plt.xlabel(\"Blood Pressure\")\n",
    "plt.ylabel(\"Frequency\")\n",
    "plt.show()\n",
    "\n",
    "\n",
    "#Distribution of Cholesterol in the DataSet\n",
    "plt.figure(figsize= (11,7))\n",
    "plt.hist(dataSet.Cholesterol, color = \"#D3702B\", bins = 30)\n",
    "plt.title(\"Cholesterol distribution in the DataSet\")\n",
    "plt.xlabel(\"Cholesterol\")\n",
    "plt.ylabel(\"Frequency\")\n",
    "plt.show()"
   ]
  },
  {
   "cell_type": "markdown",
   "metadata": {},
   "source": [
    "#### - Crosstab allows to create graph in a manner to have count of categorical variable associated with another.\n",
    "- We have created comparison of chest pain level in heart disease presence and absence\n",
    "- Surprisingly Typical Anigma patients have Heart Disease\n",
    "- Atypical Anima patient are more who do not have Heart Disease presence\n",
    "- Ideally any of the chest pain should at least have heart disease presence but here it is only typical anigma at maximum and skewed point."
   ]
  },
  {
   "cell_type": "code",
   "execution_count": 74,
   "metadata": {},
   "outputs": [
    {
     "data": {
      "image/png": "[encoded data removed]",
      "text/plain": [
       "<Figure size 720x576 with 1 Axes>"
      ]
     },
     "metadata": {},
     "output_type": "display_data"
    }
   ],
   "source": [
    "#Connection between Chest pains and Targeted Patient\n",
    "pd.crosstab(dataSet.Target,dataSet.ChestPain).plot(kind=\"bar\",figsize = (10,8), color = [\"#EC7B7B\",\"#59CDD6\",\"#D3702B\",\"#2BD39B\"])\n",
    "plt.title(\"Chest pain Presence in Diseases and Fit Poeple\")\n",
    "plt.xlabel(\"Target\")\n",
    "plt.xticks(rotation=0)\n",
    "plt.legend([\"Typical Angina\",\"Non-angina pain\",\"Atypical Angina\",\"Asymptomatic\"])\n",
    "plt.ylabel(\"Frequency\")\n",
    "plt.show()"
   ]
  },
  {
   "cell_type": "code",
   "execution_count": 75,
   "metadata": {},
   "outputs": [
    {
     "data": {
      "image/png": "[encoded data removed]",
      "text/plain": [
       "<Figure size 936x648 with 1 Axes>"
      ]
     },
     "metadata": {},
     "output_type": "display_data"
    }
   ],
   "source": [
    "#With increase in the age, depression is rising and can be seen. But for initial few years it remains equivalent\n",
    "#Depression rate in the age\n",
    "plt.figure(figsize=(13,9))\n",
    "plt.scatter(dataSet.Age, dataSet.Depression, marker=\"*\", color = \"#2B87D3\")\n",
    "plt.xlabel(\"Age of Person\")\n",
    "plt.ylabel(\"Depression Rate\")\n",
    "plt.title(\"Relation between Age and Presence of Depression level\")\n",
    "plt.show()"
   ]
  },
  {
   "cell_type": "markdown",
   "metadata": {},
   "source": [
    "#### Seaborn is a great library and it allows to create multiple visualization:\n",
    "- The below graph calculates amount of Male and Female considered in an observation. The result is close or more than half of the value"
   ]
  },
  {
   "cell_type": "code",
   "execution_count": 76,
   "metadata": {},
   "outputs": [
    {
     "data": {
      "image/png": "[encoded data removed]",
      "text/plain": [
       "<Figure size 432x288 with 1 Axes>"
      ]
     },
     "metadata": {},
     "output_type": "display_data"
    }
   ],
   "source": [
    "sns.countplot(dataSet.Sex, palette='bwr')\n",
    "plt.show()"
   ]
  },
  {
   "cell_type": "code",
   "execution_count": 77,
   "metadata": {},
   "outputs": [
    {
     "data": {
      "image/png": "[encoded data removed]",
      "text/plain": [
       "<Figure size 720x576 with 1 Axes>"
      ]
     },
     "metadata": {},
     "output_type": "display_data"
    }
   ],
   "source": [
    "# Most of the patients seem have no sugar but still the amount of presence of Heart disease is almost same.\n",
    "#In fact with sugar the count is very close.\n",
    "\n",
    "\n",
    "# Relationship between Heart Disease with Sugar\n",
    "pd.crosstab(dataSet.Sugar,dataSet.Target).plot(kind=\"bar\",figsize = (10,8), color = [\"#EC7B7B\",\"#59CDD6\"])\n",
    "plt.title(\"Heart Disease Frequency for Sugar\")\n",
    "plt.xlabel(\"Sugar Presence\")\n",
    "plt.xticks(rotation=0)\n",
    "plt.legend([\"Disease\",\"No Disease\"])\n",
    "plt.ylabel(\"Frequency\")\n",
    "plt.show()"
   ]
  },
  {
   "cell_type": "code",
   "execution_count": 78,
   "metadata": {},
   "outputs": [
    {
     "data": {
      "image/png": "[encoded data removed]",
      "text/plain": [
       "<Figure size 720x576 with 1 Axes>"
      ]
     },
     "metadata": {},
     "output_type": "display_data"
    }
   ],
   "source": [
    "#Presence of Thelesemia and presence of Heart Disease\n",
    "#Thalassemia presnece can cause heart disease and it can be seen from the visualization.\n",
    "pd.crosstab(dataSet.Target,dataSet.Thal).plot(kind=\"bar\",figsize = (10,8), color = [\"#EC7B7B\",\"#59CDD6\",\"#D3702B\",\"#2BD39B\"])\n",
    "plt.title(\"Thalassemia Presence in Diseases and Fit People\")\n",
    "plt.xlabel(\"Target\")\n",
    "plt.xticks(rotation=0)\n",
    "plt.legend([\"Absend\",\"Normal\",\"Fixed\",\"Riversable\"])\n",
    "plt.ylabel(\"Frequency\")\n",
    "plt.show()"
   ]
  },
  {
   "cell_type": "markdown",
   "metadata": {},
   "source": [
    "### Descriptive Analytics:\n",
    "\n",
    "* Conclusion/Trends/Surprising Summary of Descriptive Statistics:\n",
    "    - The data set contains more men than women so, it will be difficult to conclude about women. Also, there are chances that men are the most victim in case of heart disease then women.\n",
    "    - Most of the patient is not too young and not too old. Also, when we check about blood pressure distribution we found out the variation is not huge and it is good.\n",
    "    - Type of Anigma does matter to have heart disease and not every type of anigma causes heart disease\n",
    "    - Depression rate is not so spread for all the sample patients\n",
    "    - Weird though that the person who does not contain sugar has heart disease\n",
    "    - Definitely Thalassemia has some effect for occurance of Heart Disease"
   ]
  },
  {
   "cell_type": "code",
   "execution_count": 83,
   "metadata": {},
   "outputs": [
    {
     "data": {
      "text/plain": [
       "Age              float64\n",
       "Sex               object\n",
       "ChestPain         object\n",
       "BloodPressure    float64\n",
       "Cholesterol      float64\n",
       "Sugar             object\n",
       "Ecg               object\n",
       "HeartRate        float64\n",
       "Agina             object\n",
       "Depression       float64\n",
       "Peak              object\n",
       "Vesels            object\n",
       "Thal              object\n",
       "Target             int64\n",
       "dtype: object"
      ]
     },
     "execution_count": 83,
     "metadata": {},
     "output_type": "execute_result"
    }
   ],
   "source": [
    "#Checking Data types before Predictive modeling for conversion\n",
    "dataSet.dtypes"
   ]
  },
  {
   "cell_type": "markdown",
   "metadata": {},
   "source": [
    "### Predictive Analytics:\n",
    "\n",
    "1. Sklearn models to use for Prediction:\n",
    "    - Scikit-learn is a huge library to build and predict the model. For the Capstone purpose, main agenda is to predict the presence of the Heart Disease in the patient using Classification models.\n",
    "    - There are Several Classification models but for this project: I am going to use simple Logistic Regression and Decision Tree Model due to tree like hierarchy of Data Set\n",
    "\n",
    "\n",
    "2. Predictive Analytics with Answers:\n",
    "    - To evaluate the model, I have decided to use Confusion Matrix to avoid any trouble. Here we can rely on Precision and Sensetivity more instead of Accuracy only. But, Accuracy is also a key point."
   ]
  },
  {
   "cell_type": "code",
   "execution_count": 94,
   "metadata": {},
   "outputs": [
    {
     "data": {
      "text/plain": [
       "(297, 13)"
      ]
     },
     "execution_count": 94,
     "metadata": {},
     "output_type": "execute_result"
    }
   ],
   "source": [
    "#Since many attributes are categorical, it is important to convert labels into one hot encoder or we can dummy variable techniques directly.\n",
    "\n",
    "#Create predictors and response variable\n",
    "X = dataSet.iloc[:,:-1].values\n",
    "y = dataSet.iloc[:,-1].values\n",
    "\n",
    "#Label encoding of all the categorical variable\n",
    "from sklearn.preprocessing import LabelEncoder\n",
    "lblenc = LabelEncoder()\n",
    "X[:,1] = lblenc.fit_transform(X[:,1])\n",
    "X[:,2] = lblenc.fit_transform(X[:,2])\n",
    "X[:,5] = lblenc.fit_transform(X[:,5])\n",
    "X[:,6] = lblenc.fit_transform(X[:,6])\n",
    "X[:,8] = lblenc.fit_transform(X[:,8])\n",
    "X[:,10] = lblenc.fit_transform(X[:,10])\n",
    "X[:,11] = lblenc.fit_transform(X[:,11])\n",
    "X[:,12] = lblenc.fit_transform(X[:,12])\n",
    "X.shape"
   ]
  },
  {
   "cell_type": "code",
   "execution_count": 100,
   "metadata": {},
   "outputs": [],
   "source": [
    "#Creating Dummy variable by using HotEncoder Technique\n",
    "from sklearn.preprocessing import OneHotEncoder\n",
    "encoder = OneHotEncoder(categorical_features=[[1,2,5,6,8,10,11,12]])\n",
    "X = encoder.fit_transform(X).toarray()"
   ]
  },
  {
   "cell_type": "code",
   "execution_count": 96,
   "metadata": {},
   "outputs": [
    {
     "data": {
      "text/plain": [
       "(297, 28)"
      ]
     },
     "execution_count": 96,
     "metadata": {},
     "output_type": "execute_result"
    }
   ],
   "source": [
    "#Verifying the shape will change after encoding\n",
    "X.shape"
   ]
  },
  {
   "cell_type": "code",
   "execution_count": 97,
   "metadata": {},
   "outputs": [
    {
     "data": {
      "text/plain": [
       "array([[27,  7],\n",
       "       [ 3, 23]])"
      ]
     },
     "execution_count": 97,
     "metadata": {},
     "output_type": "execute_result"
    }
   ],
   "source": [
    "#Splitting data set in train and test the ration will be 80:20 for train:test. Train data set will be used to trained the model\n",
    "# Test data set will be used to test the model and output of the model.\n",
    "from sklearn.model_selection import train_test_split\n",
    "X_train, X_test, y_train, y_test = train_test_split(X,y,test_size = 0.2, random_state = 0)\n",
    "\n",
    "#Creating First Simple Logistics Regression Model with training model and predicting the value\n",
    "from sklearn.linear_model import LogisticRegression\n",
    "regressor = LogisticRegression()\n",
    "regressor.fit(X_train,y_train)\n",
    "y_pred = regressor.predict(X_test)\n",
    "\n",
    "#Confusion Matrix is the preferable way to measure accuracy of a classification model.\n",
    "cm = confusion_matrix(y_pred,y_test)\n",
    "cm"
   ]
  },
  {
   "cell_type": "code",
   "execution_count": 98,
   "metadata": {},
   "outputs": [
    {
     "data": {
      "text/plain": [
       "array([[22,  9],\n",
       "       [ 8, 21]])"
      ]
     },
     "execution_count": 98,
     "metadata": {},
     "output_type": "execute_result"
    }
   ],
   "source": [
    "#Decision Tree Model building using Scikit-learn libraries\n",
    "from sklearn.tree import DecisionTreeClassifier\n",
    "classifier = DecisionTreeClassifier(random_state= 0,)\n",
    "classifier.fit(X_train,y_train)\n",
    "y_pred1 = classifier.predict(X_test)\n",
    "\n",
    "#Confusion Matrix for accuracy\n",
    "cm1 = confusion_matrix(y_pred1,y_test)\n",
    "cm1"
   ]
  }
 ],
 "metadata": {
  "kernelspec": {
   "display_name": "Python 3",
   "language": "python",
   "name": "python3"
  },
  "language_info": {
   "codemirror_mode": {
    "name": "ipython",
    "version": 3
   },
   "file_extension": ".py",
   "mimetype": "text/x-python",
   "name": "python",
   "nbconvert_exporter": "python",
   "pygments_lexer": "ipython3",
   "version": "3.7.5"
  }
 },
 "nbformat": 4,
 "nbformat_minor": 2
}
